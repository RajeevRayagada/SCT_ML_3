{
 "cells": [
  {
   "cell_type": "code",
   "execution_count": 2,
   "id": "6c41e0b1-46bd-42d6-9a76-3942b2d97ce5",
   "metadata": {},
   "outputs": [],
   "source": [
    "import os\n",
    "import numpy as np\n",
    "import cv2\n",
    "from sklearn.model_selection import train_test_split\n",
    "from sklearn.svm import SVC\n",
    "from sklearn.decomposition import PCA\n",
    "from sklearn.metrics import accuracy_score, classification_report, confusion_matrix\n",
    "import matplotlib.pyplot as plt\n",
    "import seaborn as sns"
   ]
  },
  {
   "cell_type": "code",
   "execution_count": 3,
   "id": "61e70621-2232-47bf-a3c3-24e053c1684c",
   "metadata": {},
   "outputs": [],
   "source": [
    "# Path to the training dataset folder\n",
    "train_path = r\"C:\\Users\\rajee\\SCT_ML_3\\train\""
   ]
  },
  {
   "cell_type": "code",
   "execution_count": 4,
   "id": "0596d692-67e1-4e2b-be84-e17419c84319",
   "metadata": {},
   "outputs": [],
   "source": [
    "# Prepare lists for images and labels\n",
    "images = []\n",
    "labels = []"
   ]
  },
  {
   "cell_type": "code",
   "execution_count": null,
   "id": "023576e3-d14d-4d84-9165-4a808efe1fa4",
   "metadata": {},
   "outputs": [],
   "source": [
    "# Iterate through training images\n",
    "for file_name in os.listdir(train_path):\n",
    "    try:\n",
    "        # Read the image\n",
    "        img = cv2.imread(os.path.join(train_path, file_name))\n",
    "        if img is not None:\n",
    "            # Resize the image to 64x64 pixels for consistency\n",
    "            img = cv2.resize(img, (64, 64))\n",
    "            # Flatten the image and normalize pixel values\n",
    "            images.append(img.flatten() / 255.0)\n",
    "            # Assign label based on file name\n",
    "            if \"cat\" in file_name.lower():\n",
    "                labels.append(0)  # Cat = 0\n",
    "            elif \"dog\" in file_name.lower():\n",
    "                labels.append(1)  # Dog = 1\n",
    "    except Exception as e:\n",
    "        print(f\"Error processing file {file_name}: {e}\")"
   ]
  },
  {
   "cell_type": "code",
   "execution_count": null,
   "id": "034a53b2-a143-48c5-82a1-dbf5f47bbd90",
   "metadata": {},
   "outputs": [],
   "source": [
    "# Convert to NumPy arrays\n",
    "images = np.array(images)\n",
    "labels = np.array(labels)\n",
    "\n",
    "print(f\"Loaded {len(images)} images.\")\n",
    "print(f\"Loaded {len(labels)} labels.\")"
   ]
  },
  {
   "cell_type": "code",
   "execution_count": null,
   "id": "9e687fb3-6819-41e6-a622-46625bcc78d1",
   "metadata": {},
   "outputs": [],
   "source": [
    "# Dimensionality reduction using PCA\n",
    "print(\"Applying PCA to reduce dimensionality...\")\n",
    "pca = PCA(n_components=100)\n",
    "images_reduced = pca.fit_transform(images)"
   ]
  },
  {
   "cell_type": "code",
   "execution_count": null,
   "id": "ca17361c-b99f-49ec-93d3-8182a6892426",
   "metadata": {},
   "outputs": [],
   "source": [
    "# Split the data into training and testing sets\n",
    "X_train, X_test, y_train, y_test = train_test_split(images_reduced, labels, test_size=0.2, random_state=42)"
   ]
  },
  {
   "cell_type": "code",
   "execution_count": null,
   "id": "13a0ae67-1f87-425c-b65e-048352b92977",
   "metadata": {},
   "outputs": [],
   "source": [
    "# Initialize the SVM model\n",
    "svm_model = SVC(kernel=\"linear\")"
   ]
  },
  {
   "cell_type": "code",
   "execution_count": null,
   "id": "610979d4-a687-4abc-97c4-ee1fb16d1ce4",
   "metadata": {},
   "outputs": [],
   "source": [
    "# Train the model\n",
    "print(\"Training the SVM model...\")\n",
    "svm_model.fit(X_train, y_train)"
   ]
  },
  {
   "cell_type": "code",
   "execution_count": null,
   "id": "007d58a5-359d-45de-9797-fade96b81074",
   "metadata": {},
   "outputs": [],
   "source": [
    "# Make predictions\n",
    "y_pred = svm_model.predict(X_test)"
   ]
  },
  {
   "cell_type": "code",
   "execution_count": null,
   "id": "d5db9c32-a934-4085-9d49-d72acce96a0d",
   "metadata": {},
   "outputs": [],
   "source": [
    "# Calculate accuracy\n",
    "accuracy = accuracy_score(y_test, y_pred)\n",
    "print(f\"Accuracy: {accuracy * 100:.2f}%\")"
   ]
  },
  {
   "cell_type": "code",
   "execution_count": null,
   "id": "c5b778b0-7549-4415-9261-4237f3bc1d9b",
   "metadata": {},
   "outputs": [],
   "source": [
    "# Display classification report\n",
    "print(\"Classification Report:\")\n",
    "print(classification_report(y_test, y_pred))"
   ]
  },
  {
   "cell_type": "code",
   "execution_count": null,
   "id": "8459b3fe-a70b-491c-958d-3aabd7712581",
   "metadata": {},
   "outputs": [],
   "source": [
    "# Confusion matrix visualization\n",
    "conf_matrix = confusion_matrix(y_test, y_pred)\n",
    "plt.figure(figsize=(6, 6))\n",
    "sns.heatmap(conf_matrix, annot=True, fmt=\"d\", cmap=\"Blues\", xticklabels=[\"Cat\", \"Dog\"], yticklabels=[\"Cat\", \"Dog\"])\n",
    "plt.title(\"Confusion Matrix\")\n",
    "plt.xlabel(\"Predicted Label\")\n",
    "plt.ylabel(\"True Label\")\n",
    "plt.show()"
   ]
  }
 ],
 "metadata": {
  "kernelspec": {
   "display_name": "Python 3 (ipykernel)",
   "language": "python",
   "name": "python3"
  },
  "language_info": {
   "codemirror_mode": {
    "name": "ipython",
    "version": 3
   },
   "file_extension": ".py",
   "mimetype": "text/x-python",
   "name": "python",
   "nbconvert_exporter": "python",
   "pygments_lexer": "ipython3",
   "version": "3.11.9"
  },
  "widgets": {
   "application/vnd.jupyter.widget-state+json": {
    "state": {},
    "version_major": 2,
    "version_minor": 0
   }
  }
 },
 "nbformat": 4,
 "nbformat_minor": 5
}
